{
 "cells": [
  {
   "cell_type": "markdown",
   "metadata": {
    "id": "TVAzcQ4lsIje"
   },
   "source": [
    "# Unidad 1. Regresión lineal simple y correlación"
   ]
  },
  {
   "cell_type": "markdown",
   "metadata": {},
   "source": [
    "# Unidad 1. Regresión lineal simple y correlación"
   ]
  },
  {
   "cell_type": "markdown",
   "metadata": {
    "id": "rh_egttcs5VI"
   },
   "source": [
    "## Medidas de dispersión\n",
    "Suma de los cuadrados de las desviaciones de los valores de $X$ con respecto a su media:\n",
    "$$ S_{xx} = \\sum_{i=1}^{n} (X_i - \\bar{X})^2 $$\n",
    "Suma de los productos de las desviaciones de los valores de $X$ y $Y$ con respecto a sus medias:\n",
    "$$S_{xy} = \\sum_{i=1}^{n} (X_i - \\bar{X})(Y_i - \\bar{Y})$$\n",
    "Suma de los cuadrados de las desviaciones de los valores de $Y$ con respecto a su media:\n",
    "$$ S_{xx} = \\sum_{i=1}^{n} (Y_i - \\bar{Y})^2 $$\n"
   ]
  },
  {
   "cell_type": "markdown",
   "metadata": {
    "id": "BqCWSQNGvU22"
   },
   "source": [
    "## Coeficiente de correlación y de determinación\n",
    "Coeficiente de correlación de Pearson:\n",
    "$$ r = \\frac{S_{xy}}{\\sqrt{S_{xx} \\cdot S_{yy}}} $$\n",
    "Coeficiente de determinación:\n",
    "$$ r^2 $$"
   ]
  },
  {
   "cell_type": "markdown",
   "metadata": {
    "id": "MTxWw-C7vjOt"
   },
   "source": [
    "## Recta de regresión ajustada\n",
    "La regresión lineal ajustada se representa mediante estadísticos:\n",
    "$$ \\hat{Y} = b_0 + b_1 X $$\n",
    "donde $\\hat{Y}$ representa el valor de $Y$ obtenido mediante la recta de regresión ajustada (no la verdadera $Y$). Los estadísticos $b_0$ y $b_1$ se calculan de la siguiente manera:\n",
    "\n",
    "$$b_1 = \\frac{S_{xy}}{S_{xx}}$$\n",
    "\n",
    "$$ b_0 = \\bar{Y} - b_1 \\bar{X} $$"
   ]
  },
  {
   "cell_type": "markdown",
   "metadata": {
    "id": "Tng5HL6e2ioR"
   },
   "source": [
    "## Cálculo de residuales\n",
    "Residuales:\n",
    "$$e_i = Y_i - \\hat{Y}_i$$"
   ]
  },
  {
   "cell_type": "markdown",
   "metadata": {
    "id": "1tKbBa4T3dQH"
   },
   "source": [
    "## Sumas de cuadrados SS (Sum of Squares)\n",
    "Suma de los Cuadrados de los Errores:\n",
    "$$ SSE = \\sum_{i=1}^{n} (Y_i - \\hat{Y}_i)^2 = \\sum_{i=1}^n e_i^2$$\n",
    "Suma total de cuadrados:\n",
    "$$SST = \\sum_{i=1}^{n} (Y_i - \\bar{Y})^2$$\n",
    "Suma de cuadrados de regresión:\n",
    "$$SSR = \\sum_{i=1}^{n} (\\hat{Y_i} - \\bar{Y})^2$$\n",
    "- SST: Mide la variabilidad total de los datos observados.\n",
    "- SSR: Mide la variabilidad de los datos que el modelo de regresión explica.\n",
    "- SSE: Mide la variabilidad no explicada por el modelo (es decir, los residuos).\n"
   ]
  },
  {
   "cell_type": "markdown",
   "metadata": {
    "id": "fL4VVE5GRLg6"
   },
   "source": [
    "## Intervalo de confianza\n",
    "Estadístico de prueba _t_:\n",
    "$$t = \\frac{b_1}{SE(b_1)}$$\n",
    "Error estándar de $b_1$:\n",
    "$$SE(b_1) = \\frac{\\sqrt{SSE / (n-2)}}   {\\sqrt{S_{xx}} }$$\n",
    "o\n",
    "$$SE(b_1) = \\frac{\\sqrt{\\sum_{i=1}^{n} (Y_i - \\hat{Y}_i)^2  / (n-2)}}   {\\sqrt{S_{xx}} }$$\n",
    "\n",
    "Intervalo de confianza para $b_1$:\n",
    "$$b_1 - t_{\\alpha/2} \\cdot SE(b_1) \\lt \\beta_1 \\lt b_1 + t_{\\alpha/2} \\cdot SE(b_1)$$\n",
    "donde $n$ representa la cantidad de pares de datos."
   ]
  },
  {
   "cell_type": "markdown",
   "metadata": {
    "id": "s61W7Msz8BsH"
   },
   "source": [
    "## Comprobación de supuestos\n",
    "Comprobar suposiciones:\n",
    "- Test de shapiro a los residuales $e_i$: Para comprobar si la distribución es normal sobre la recta.\n",
    "- Grafico $X$ vs $Y$: Para observar si los datos soportan la suposición de linealidad.\n",
    "- Gráfico de residuales: Para observar si los datos soportan la suposición de linealidad, complementario al coeficiente de correlación\n",
    "- Test de Breusch-Pagan: Para detectar heteroscedasticidad en regresion lineal"
   ]
  },
  {
   "cell_type": "markdown",
   "metadata": {
    "id": "IbD1iORXB5Wv"
   },
   "source": [
    "Test de Shapiro:<br>\n",
    "`from scipy.stats import shapiro`<br>\n",
    "Después, se obtiene el valor-p:<br>\n",
    "`_, valor_p_sh = shapiro(data)`<br>\n",
    "- $H_0$: Los datos siguen una distribución normal\n",
    "- $H_1$: Los datos no siguen una distribución normal"
   ]
  },
  {
   "cell_type": "markdown",
   "metadata": {
    "id": "b12qtYRqDWC1"
   },
   "source": [
    "Test de Breusch-Pagan:<br>\n",
    "`from statsmodels.stats.api import het_breuschpagan`<br>\n",
    "Después, se obtiene el valor-p:<br>\n",
    "`_, valor_p_bp, _, _ = het_breuschpagan(residuales, X)`\n",
    "- $H_0$: Hay homoscedasticidad\n",
    "- $H_1$: Hay heteroscedasticidad"
   ]
  },
  {
   "cell_type": "markdown",
   "metadata": {
    "id": "5jtxbLDlB3zw"
   },
   "source": [
    "## ANOVA en regresión lineal\n",
    "\n",
    "| Fuente de variación | Suma de cuadrados (SS) | Grados de libertad (df) | Promedio de los cuadrados (MS) | Estadístico F |\n",
    "|---------------------|------------------------|--------------------------|--------------------------------|---------------|\n",
    "| Regresión  | $ SSR$ | $p$ | $MSR = \\frac{SSR}{p}$ | $F = \\frac{MSR}{MSE}$|\n",
    "| Error | $SSE$| $n - p - 1 $| $MSE = \\frac{SSE}{n - p - 1} $|     |\n",
    "| Total | $SST $| $n - 1$|             |        |\n",
    "\n",
    "donde $p$ es el número de parámetros para la recta de regresión ajustada (en la regresión simple $p=1$). Las hipótesis son:\n",
    "$$H_0: \\beta_1 = 0$$\n",
    "$$H_1: \\beta_1 \\ne 0 $$"
   ]
  },
  {
   "cell_type": "markdown",
   "metadata": {
    "id": "MCDhN4YtFTGP"
   },
   "source": [
    "## Problemario de la Unidad 1"
   ]
  },
  {
   "cell_type": "markdown",
   "metadata": {
    "id": "xDXxbFV88kQo"
   },
   "source": [
    "### Problema 1\n",
    "Un profesor intenta mostrar a sus estudiantes la importancia de los exámenes cortos, aun cuando el 90% de la calificación final esté determinada por los exámenes parciales. Él cree que cuanto más altas sean las calificaciones de los exámenes cortos, más alta será la calificación final. Seleccionó una muestra aleatoria de 15 estudiantes de su clase con los siguientes datos:\n",
    "\n",
    "| Promedio de exámenes cortos | Promedio final |\n",
    "|--------------|--------------|\n",
    "| 59 | 64 |\n",
    "| 92 | 84 |\n",
    "| 72 | 77 |\n",
    "| 90 | 80 |\n",
    "| 95 | 77 |\n",
    "| 87 | 81 |\n",
    "| 89 | 80 |\n",
    "| 77 | 84 |\n",
    "| 76 | 80 |\n",
    "| 65 | 69 |\n",
    "| 97 | 83 |\n",
    "| 42 | 40 |\n",
    "| 94 | 78 |\n",
    "| 62 | 65 |\n",
    "| 91 | 90 |\n",
    "\n",
    "\n",
    "\n",
    "1.   Establesca una variable dependiente ($Y$) y una variable independiente ($X$).\n",
    "2.   Realice un diagrama de dispersión para estos datos.\n",
    "3. ¿Los datos soportan la suposición de linealidad?\n",
    "4. Calcule el coeficiente de correlación e interprete el resultado.\n",
    "5. Calcule el coeficiente de determinación e interprete el resultado.\n",
    "6. Obtenga la recta de regresión ajustada y grafíquelo sobre el gráfico de dispersión.\n",
    "7. Obtenga un intervalo de confianza del 95% para la pendiente de la recta de regresión ajustada ($b_1$)\n",
    "8. Calcule los residuales y trace un nuevo gráfico de dispersión. Comente, ¿Parece que se verifican los supuestos?\n",
    "9. Realice la prueba de Shapiro para los residuales y comente el resultado.\n",
    "10. Realice la prueba de Brausch-Pagan para los residuales y comente el resultado.\n",
    "11. Tres estudiantes sacaron 70, 75 y 84 de calificación. Según la recta de regresión ajustada, ¿cuáles son los resultados esperados para estos tres alumnos?\n",
    "12. Realice una tabla ANOVA e interprete el resultado.\n",
    "\n"
   ]
  },
  {
   "cell_type": "code",
   "execution_count": null,
   "metadata": {
    "colab": {
     "base_uri": "https://localhost:8080/",
     "height": 125
    },
    "executionInfo": {
     "elapsed": 37,
     "status": "ok",
     "timestamp": 1740354205672,
     "user": {
      "displayName": "José Cruz Muñoz Esparza",
      "userId": "02586865692924062765"
     },
     "user_tz": 360
    },
    "id": "vJcV60HmKg31",
    "outputId": "984b1c54-c1b9-42a9-d639-92933b2d03e0"
   },
   "outputs": [
    {
     "name": "stdout",
     "output_type": "stream",
     "text": [
      "Coeficiente de correlación:  0.8646\n",
      "\n",
      "Coeficiente de determinación:  0.7475\n",
      "\n",
      "intervalo de confianza de  95%\n",
      " 0.4192 < b1 <  0.8671 \n",
      "\n",
      "valor_p para shapiro: 0.9018\n",
      "\n",
      "para x = 70, y=  70\n",
      "para x = 75, y=  73\n",
      "para x = 84, y=  79\n",
      "\n"
     ]
    },
    {
     "data": {
      "text/html": [
       "<div>\n",
       "<style scoped>\n",
       "    .dataframe tbody tr th:only-of-type {\n",
       "        vertical-align: middle;\n",
       "    }\n",
       "\n",
       "    .dataframe tbody tr th {\n",
       "        vertical-align: top;\n",
       "    }\n",
       "\n",
       "    .dataframe thead th {\n",
       "        text-align: right;\n",
       "    }\n",
       "</style>\n",
       "<table border=\"1\" class=\"dataframe\">\n",
       "  <thead>\n",
       "    <tr style=\"text-align: right;\">\n",
       "      <th></th>\n",
       "      <th>Fuente de variación</th>\n",
       "      <th>Grados de libertad</th>\n",
       "      <th>Suma de cuadrados</th>\n",
       "      <th>Cuadrados medios</th>\n",
       "      <th>F</th>\n",
       "      <th>Valor-p</th>\n",
       "    </tr>\n",
       "  </thead>\n",
       "  <tbody>\n",
       "    <tr>\n",
       "      <th>0</th>\n",
       "      <td>Trtatamiento</td>\n",
       "      <td>1.0</td>\n",
       "      <td>1538.229000</td>\n",
       "      <td>1538.2290</td>\n",
       "      <td>38.4924</td>\n",
       "      <td>0.0</td>\n",
       "    </tr>\n",
       "    <tr>\n",
       "      <th>1</th>\n",
       "      <td>Error</td>\n",
       "      <td>13.0</td>\n",
       "      <td>519.504400</td>\n",
       "      <td>39.9619</td>\n",
       "      <td>NaN</td>\n",
       "      <td>NaN</td>\n",
       "    </tr>\n",
       "    <tr>\n",
       "      <th>2</th>\n",
       "      <td>Total</td>\n",
       "      <td>14.0</td>\n",
       "      <td>2057.733333</td>\n",
       "      <td>NaN</td>\n",
       "      <td>NaN</td>\n",
       "      <td>NaN</td>\n",
       "    </tr>\n",
       "  </tbody>\n",
       "</table>\n",
       "</div>"
      ],
      "text/plain": [
       "  Fuente de variación  Grados de libertad  Suma de cuadrados  \\\n",
       "0        Trtatamiento                 1.0        1538.229000   \n",
       "1               Error                13.0         519.504400   \n",
       "2               Total                14.0        2057.733333   \n",
       "\n",
       "   Cuadrados medios        F  Valor-p  \n",
       "0         1538.2290  38.4924      0.0  \n",
       "1           39.9619      NaN      NaN  \n",
       "2               NaN      NaN      NaN  "
      ]
     },
     "execution_count": 1,
     "metadata": {},
     "output_type": "execute_result"
    },
    {
     "data": {
      "image/png": "[encoded data removed]",
      "text/plain": [
       "<Figure size 640x480 with 1 Axes>"
      ]
     },
     "metadata": {},
     "output_type": "display_data"
    },
    {
     "data": {
      "image/png": "[encoded data removed]",
      "text/plain": [
       "<Figure size 640x480 with 1 Axes>"
      ]
     },
     "metadata": {},
     "output_type": "display_data"
    }
   ],
   "source": [
    "# 1. Establesca una variable dependiente ( Y ) y una variable independiente ( X ).\n",
    "\n",
    "# Variable independiente: examenes cortos\n",
    "# Variable dependiente: promedio final\n",
    "\n",
    "import numpy as np \n",
    "\n",
    "X = np.array([59, 92, 72, 90, 95, 87, 89, 77, 76, 65, 97, 42, 94, 62, 91])  #examenes cortos \n",
    "Y = np.array([64, 84, 77, 80, 77, 81, 80, 84, 80, 69, 83, 40, 78, 65, 90])  #promedio final\n",
    "\n",
    "# 2. Realice un diagrama de dispersión para estos datos.\n",
    "import matplotlib.pyplot as plt\n",
    "plt.scatter(X,Y, color = 'red')\n",
    "plt.xlabel('Examenes cortos')  #nombrar eje x\n",
    "plt.ylabel('Promedio final')   #nombrar eje y\n",
    "plt.title('Grafico de dispersión')\n",
    "ax = plt.gca()\n",
    "ax.spines['top'].set_visible(False)\n",
    "ax.spines['right'].set_visible(False)\n",
    "\n",
    "# 3. ¿Los datos soportan la suposición de linealidad?\n",
    "# Sí \n",
    "\n",
    "# 4. Calcule el coeficiente de correlación e interprete el resultado.\n",
    "Sxx = np.sum(   (X - np.mean(X))    **  2   )\n",
    "Sxy = np.sum(   (Y - np.mean(Y))    *   (X - np.mean(X))   )\n",
    "Syy = np.sum(   (Y - np.mean(Y))    **  2 )\n",
    "\n",
    "r = Sxy / np.sqrt(Sxx * Syy)\n",
    "print(f'Coeficiente de correlación: {r: 0.4f}\\n')\n",
    "\n",
    "# 5. Calcule el coeficiente de determinación e interprete el resultado.\n",
    "print(f'Coeficiente de determinación: {r ** 2 : 0.4f}\\n')\n",
    "# y esta sujeto a X con el 75%\n",
    "\n",
    "\n",
    "# 6. Obtenga la recta de regresión ajustada y grafíquelo sobre el gráfico de dispersión.\n",
    "b1 = Sxy / Sxx\n",
    "b0 = np.mean(Y) - b1 * np.mean(X)\n",
    "\n",
    "fun = lambda x: b1 * x + b0\n",
    "\n",
    "Yc = b1 * X + b0\n",
    "\n",
    "plt.plot(X, Yc, '--', color = 'blue')\n",
    "\n",
    "\n",
    "# 7. Obtenga un intervalo de confianza del 95% para la pendiente de la recta de regresión ajustada (b1)\n",
    "nivel_de_significancia = 0.05\n",
    "from scipy.stats import t\n",
    "T = t.ppf(1 - nivel_de_significancia / 2, df = X.size - 2)\n",
    "se_b1 = np.sqrt(np.sum((Y - Yc) ** 2) / (Y.size - 2)) / np.sqrt(Sxx)\n",
    "confianza_b1 = b1 - T * se_b1, b1 + T * se_b1\n",
    "print(f'intervalo de confianza de {1 - nivel_de_significancia: 0.0%}')\n",
    "print(f'{confianza_b1[0] : 0.4f} < b1 < {confianza_b1[1] : 0.4f} \\n')\n",
    "\n",
    "\n",
    "# 8. Calcule los residuales y trace un nuevo gráfico de dispersión. Comente, ¿Parece que se verifican los supuestos?\n",
    "plt.figure()\n",
    "residuales = Y - Yc\n",
    "plt.scatter(X, residuales, color=\"purple\" )\n",
    "plt.xlabel(\"Examenes cortos\")\n",
    "plt.ylabel(\"Residuales\")\n",
    "ax = plt.gca()\n",
    "ax.spines['top'].set_visible(False)\n",
    "ax.spines['right'].set_visible(False)\n",
    "plt.axhline(y=0, color = \"purple\", linestyle = \"--\")\n",
    "# Hay linealidad pero no hay homocedasticidad\n",
    "\n",
    "# 9.Realice la prueba de Shapiro para los residuales y comente el resultado.\n",
    "from scipy.stats import shapiro\n",
    "_,valor_p_sh = shapiro(residuales)\n",
    "print(f\"valor_p para shapiro:{valor_p_sh: 0.4f}\\n\")\n",
    "#No se rechaza la hipotesis nula, ya que es mayor a 0.05\n",
    "\n",
    "#10. Realice la prueba de Brausch-Pagan para los residuales y comente el resultado.\n",
    "\n",
    "# 11. Tres estudiantes sacaron 70, 75 y 84 de calificación. Según la recta de regresión ajustada, ¿cuáles son los resultados esperados para estos tres alumnos?\n",
    "print(f'para x = 70, y= {fun(70): 0.0f}')\n",
    "print(f'para x = 75, y= {fun(75): 0.0f}')\n",
    "print(f'para x = 84, y= {fun(84): 0.0f}\\n')\n",
    "\n",
    "#12. Realice una tabla ANOVA e interprete el resultado.\n",
    "ssr = np.sum((Yc - np.mean(Y)) ** 2)\n",
    "sse = np.sum(residuales ** 2)\n",
    "sst = ssr + sse\n",
    "df_reg = 1\n",
    "df_res = X.size - 2\n",
    "msr = ssr/ df_reg\n",
    "mse = sse / df_res\n",
    "F = msr / mse\n",
    "from scipy.stats import f \n",
    "valor_p = 1 - f.cdf(F, df_reg, df_res)\n",
    "import io\n",
    "import pandas as pd \n",
    "anova = pd.read_csv(io.StringIO(f'''\n",
    "Trtatamiento, {df_reg}, {ssr: 0.4f}, {msr: 0.4f}, {F: 0.4f}, {valor_p: 0.4f}\n",
    "Error, {df_res: 0.4f}, {sse: 0.4f}, {mse: 0.4f},,\n",
    "Total, {df_reg + df_res}, {sst},,\n",
    "'''), names = ['Fuente de variación', 'Grados de libertad', 'Suma de cuadrados', 'Cuadrados medios', 'F', 'Valor-p'])\n",
    "anova\n",
    "# Se rechaza la Ho"
   ]
  },
  {
   "cell_type": "markdown",
   "metadata": {
    "id": "xgzyiByuTttS"
   },
   "source": [
    "### Problema 2\n",
    "William Hawkins, vicepresidente de personal de la International Motors, trabaja en la relación entre el salario de un trabajador y el porcentaje de ausentismo. Hawkins dividió el intervalo de salarios de International en 12 grados o niveles (1 es el menor grado, 12 el más alto) y después muestreó aleatoriamente a un grupo de trabajadores. Determinó el grado de salario de cada trabajador y el número de días que ese empleado había faltado en los últimos 3 años.\n",
    "\n",
    "| Categoría de salario | 11 | 10 | 8  | 5  | 9  | 7  | 3  |\n",
    "|----------------------|----|----|----|----|----|----|----|\n",
    "| Ausencias           | 18 | 17 | 29 | 36 | 11 | 28 | 35 |\n",
    "\n",
    "| Categoría de salario | 11 | 8  | 7  | 2  | 9  | 8  | 3  |\n",
    "|----------------------|----|----|----|----|----|----|----|\n",
    "| Ausencias           | 14 | 20 | 32 | 39 | 16 | 31 | 40 |\n",
    "\n",
    "1.   Establesca una variable dependiente ($Y$) y una variable independiente ($X$).\n",
    "2.   Realice un diagrama de dispersión para estos datos.\n",
    "3. ¿Los datos soportan la suposición de linealidad?\n",
    "4. Calcule el coeficiente de correlación e interprete el resultado.\n",
    "5. Calcule el coeficiente de determinación e interprete el resultado.\n",
    "6. Obtenga la recta de regresión ajustada y grafíquelo sobre el gráfico de dispersión.\n",
    "7. Obtenga un intervalo de confianza del 95% para la pendiente de la recta de regresión ajustada ($b_1$)\n",
    "8. Calcule los residuales y trace un nuevo gráfico de dispersión. Comente, ¿Parece que se verifican los supuestos?\n",
    "9. Realice la prueba de Shapiro para los residuales y comente el resultado.\n",
    "10. Realice la prueba de Brausch-Pagan para los residuales y comente el resultado.\n",
    "11. Utiliza la recta de regresión para interpolar dos valores y extrapolar uno. Comenta estos resultados.\n",
    "12. Realice una tabla ANOVA e interprete el resultado."
   ]
  },
  {
   "cell_type": "code",
   "execution_count": null,
   "metadata": {},
   "outputs": [],
   "source": [
    "import pandas as pd\n",
    "import matplotlib.pyplot as plt\n",
    "df = pd.DataFrame({\n",
    "    'ausencias': [18,17,29,36,11,28,35,14,20,32,39,16,31,40],\n",
    "    'salario': [11,10,8,5,9,7,3,11,8,7,2,9,8,3]})\n",
    "df.head()"
   ]
  },
  {
   "cell_type": "code",
   "execution_count": null,
   "metadata": {},
   "outputs": [
    {
     "name": "stdout",
     "output_type": "stream",
     "text": [
      "Coeficiente de correlación: -0.8801\n",
      "\n",
      "Coeficiente de determinación:  0.7746\n",
      "\n",
      "intervalo de confianza para b1 de  95%\n",
      "-0.3506 < b1 < -0.1730\n",
      "\n",
      "valor-p de Shapiro:  0.4173\n",
      "\n",
      "valor_p de Breusch-Pagan:  0.8955\n",
      "\n",
      "Respuesta 11: 7.513501350135012\n"
     ]
    },
    {
     "data": {
      "text/html": [
       "<div>\n",
       "<style scoped>\n",
       "    .dataframe tbody tr th:only-of-type {\n",
       "        vertical-align: middle;\n",
       "    }\n",
       "\n",
       "    .dataframe tbody tr th {\n",
       "        vertical-align: top;\n",
       "    }\n",
       "\n",
       "    .dataframe thead th {\n",
       "        text-align: right;\n",
       "    }\n",
       "</style>\n",
       "<table border=\"1\" class=\"dataframe\">\n",
       "  <thead>\n",
       "    <tr style=\"text-align: right;\">\n",
       "      <th></th>\n",
       "      <th>df</th>\n",
       "      <th>sum_sq</th>\n",
       "      <th>mean_sq</th>\n",
       "      <th>F</th>\n",
       "      <th>PR(&gt;F)</th>\n",
       "    </tr>\n",
       "  </thead>\n",
       "  <tbody>\n",
       "    <tr>\n",
       "      <th>ausencias</th>\n",
       "      <td>1.0</td>\n",
       "      <td>87.034348</td>\n",
       "      <td>87.034348</td>\n",
       "      <td>41.243954</td>\n",
       "      <td>0.000033</td>\n",
       "    </tr>\n",
       "    <tr>\n",
       "      <th>Residual</th>\n",
       "      <td>12.0</td>\n",
       "      <td>25.322795</td>\n",
       "      <td>2.110233</td>\n",
       "      <td>NaN</td>\n",
       "      <td>NaN</td>\n",
       "    </tr>\n",
       "  </tbody>\n",
       "</table>\n",
       "</div>"
      ],
      "text/plain": [
       "             df     sum_sq    mean_sq          F    PR(>F)\n",
       "ausencias   1.0  87.034348  87.034348  41.243954  0.000033\n",
       "Residual   12.0  25.322795   2.110233        NaN       NaN"
      ]
     },
     "execution_count": 12,
     "metadata": {},
     "output_type": "execute_result"
    },
    {
     "data": {
      "image/png": "[encoded data removed]",
      "text/plain": [
       "<Figure size 640x480 with 1 Axes>"
      ]
     },
     "metadata": {},
     "output_type": "display_data"
    },
    {
     "data": {
      "image/png": "[encoded data removed]",
      "text/plain": [
       "<Figure size 640x480 with 1 Axes>"
      ]
     },
     "metadata": {},
     "output_type": "display_data"
    }
   ],
   "source": [
    "# 1. Establesca una variable dependiente ( Y ) y una variable independiente ( X ).\n",
    "X = df['ausencias']\n",
    "Y = df['salario']\n",
    "\n",
    "# 2. Realice un diagrama de dispersión para estos datos.\n",
    "import matplotlib.pyplot as plt\n",
    "plt.scatter(X, Y, color = 'red')\n",
    "plt.xlabel('ausencias')\n",
    "plt.ylabel('salario')\n",
    "ax = plt.gca()\n",
    "ax.spines['top'].set_visible(False)\n",
    "ax.spines['right'].set_visible(False)\n",
    "\n",
    "# 3. ¿Los datos soportan la suposición de linealidad?\n",
    "# Sí \n",
    "\n",
    "# 4. Calcule el coeficiente de correlación e interprete el resultado.\n",
    "from scipy.stats import pearsonr\n",
    "r, _ = pearsonr(X, Y)\n",
    "print(f'Coeficiente de correlación: {r:0.4f}\\n') \n",
    "# Tiene una correlacion fuerte\n",
    "\n",
    "# 5. Calcule el coeficiente de determinación e interprete el resultado.\n",
    "from sklearn.metrics import r2_score \n",
    "r2 = r2_score(Y, Yc)\n",
    "print(f'Coeficiente de determinación: {r2: 0.4f}\\n')\n",
    "#  y esta sujeto a X con el 77%\n",
    "\n",
    "# 6. Obtenga la recta de regresión ajustada y grafíquelo sobre el gráfico de dispersión.\n",
    "import statsmodels.api as sm\n",
    "x_constante = sm.add_constant(X)\n",
    "modelo = sm.OLS(Y, x_constante).fit()\n",
    "\n",
    "b0, b1 = modelo.params\n",
    "\n",
    "fun = lambda x: b0 + b1 * x\n",
    "\n",
    "Yc = fun(X) \n",
    "\n",
    "plt.plot(X, Yc, color = 'blue', linestyle = '--')\n",
    "\n",
    "# 7. Obtenga un intervalo de confianza del 95% para la pendiente de la recta de regresión ajustada (b1)\n",
    "nivel_de_confianza = 0.95\n",
    "intervalo_de_confianza = modelo.conf_int(alpha = 1 - nivel_de_confianza)\n",
    "intervalo_de_confianza_b1 = intervalo_de_confianza.iloc[1]\n",
    "print(f'intervalo de confianza para b1 de {nivel_de_confianza: 0.0%}')\n",
    "print(f'{intervalo_de_confianza_b1[0]: 0.4f} < b1 < {intervalo_de_confianza_b1[1]: 0.4f}\\n')\n",
    "\n",
    "# 8. Calcule los residuales y trace un nuevo gráfico de dispersión. Comente, ¿Parece que se verifican los supuestos?\n",
    "residuales = modelo.resid\n",
    "plt.figure()\n",
    "plt.scatter(X, residuales, color = 'green')\n",
    "plt.xlabel('ausencias')\n",
    "plt.ylabel('salario')\n",
    "ax= plt.gca()\n",
    "ax.spines['top'].set_visible(False)\n",
    "ax.spines['right'].set_visible(False)\n",
    "# Si existe linealidad pero no homocedasticidad\n",
    "\n",
    "# 9.Realice la prueba de Shapiro para los residuales y comente el resultado.\n",
    "from scipy.stats import shapiro\n",
    "_, valor_p_sh = shapiro(residuales)\n",
    "print(f'valor-p de Shapiro: {valor_p_sh: 0.4f}\\n')\n",
    "# No hay suficiente evidencia para rechazar la normalidad de los residuos.\n",
    "\n",
    "#10. Realice la prueba de Brausch-Pagan para los residuales y comente el resultado.\n",
    "from statsmodels.stats.api import het_breuschpagan\n",
    "_, valor_p_bp, _, _ = het_breuschpagan(residuales, x_constante)\n",
    "print(f'valor_p de Breusch-Pagan: {valor_p_bp: 0.4f}\\n')\n",
    "# No se rechaza la hipótesis nula de homocedasticidad.\n",
    "\n",
    "# 11. Utiliza la recta de regresión para interpolar dos valores y extrapolar uno. Comenta estos resultados.\n",
    "print(f\"Respuesta 11: {b1*25+b0}\")\n",
    "\n",
    "#12. Realice una tabla ANOVA e interprete el resultado.\n",
    "from statsmodels.formula.api import ols\n",
    "# Y ~ X \n",
    "modelo_2 = ols('salario ~ ausencias', data = df).fit()\n",
    "tabla_anova = sm.stats.anova_lm(modelo_2)\n",
    "tabla_anova\n",
    "# Se rechaza Ho"
   ]
  },
  {
   "cell_type": "markdown",
   "metadata": {
    "id": "fNYVSwWjchRu"
   },
   "source": [
    "### Problema 3\n",
    "A menudo, quienes hacen la contabilidad de costos estiman los gastos generales con base en el nivel de producción. En Standard Knitting Co. han reunido información acerca de los gastos generales y las unidades producidas en diferentes plantas.\n",
    "\n",
    "| Gastos generales | 191 | 170 | 272 | 155 | 280 | 173 | 234 | 116 | 153 | 178 |\n",
    "|------------------|-----|-----|-----|-----|-----|-----|-----|-----|-----|-----|\n",
    "| Unidades        |  40 |  42 |  53 |  35 |  56 |  39 |  48 |  30 |  37 |  40 |\n",
    "\n",
    "1.   Establesca una variable dependiente ($Y$) y una variable independiente ($X$).\n",
    "2.   Realice un diagrama de dispersión para estos datos.\n",
    "3. ¿Los datos soportan la suposición de linealidad?\n",
    "4. Calcule el coeficiente de correlación e interprete el resultado.\n",
    "5. Calcule el coeficiente de determinación e interprete el resultado.\n",
    "6. Obtenga la recta de regresión ajustada y grafíquelo sobre el gráfico de dispersión.\n",
    "7. Obtenga un intervalo de confianza del 95% para la pendiente de la recta de regresión ajustada ($b_1$)\n",
    "8. Calcule los residuales y trace un nuevo gráfico de dispersión. Comente, ¿Parece que se verifican los supuestos?\n",
    "9. Realice la prueba de Shapiro para los residuales y comente el resultado.\n",
    "10. Realice la prueba de Brausch-Pagan para los residuales y comente el resultado.\n",
    "11. Utiliza la recta de regresión para interpolar dos valores y extrapolar uno. Comenta estos resultados.\n",
    "12. Realice una tabla ANOVA e interprete el resultado.\n"
   ]
  },
  {
   "cell_type": "code",
   "execution_count": 2,
   "metadata": {
    "id": "A57YusZWQX8i"
   },
   "outputs": [
    {
     "data": {
      "text/html": [
       "<div>\n",
       "<style scoped>\n",
       "    .dataframe tbody tr th:only-of-type {\n",
       "        vertical-align: middle;\n",
       "    }\n",
       "\n",
       "    .dataframe tbody tr th {\n",
       "        vertical-align: top;\n",
       "    }\n",
       "\n",
       "    .dataframe thead th {\n",
       "        text-align: right;\n",
       "    }\n",
       "</style>\n",
       "<table border=\"1\" class=\"dataframe\">\n",
       "  <thead>\n",
       "    <tr style=\"text-align: right;\">\n",
       "      <th></th>\n",
       "      <th>Unidades</th>\n",
       "      <th>Gastos_generales</th>\n",
       "    </tr>\n",
       "  </thead>\n",
       "  <tbody>\n",
       "    <tr>\n",
       "      <th>0</th>\n",
       "      <td>40</td>\n",
       "      <td>191</td>\n",
       "    </tr>\n",
       "    <tr>\n",
       "      <th>1</th>\n",
       "      <td>42</td>\n",
       "      <td>170</td>\n",
       "    </tr>\n",
       "    <tr>\n",
       "      <th>2</th>\n",
       "      <td>53</td>\n",
       "      <td>272</td>\n",
       "    </tr>\n",
       "    <tr>\n",
       "      <th>3</th>\n",
       "      <td>35</td>\n",
       "      <td>155</td>\n",
       "    </tr>\n",
       "    <tr>\n",
       "      <th>4</th>\n",
       "      <td>56</td>\n",
       "      <td>280</td>\n",
       "    </tr>\n",
       "  </tbody>\n",
       "</table>\n",
       "</div>"
      ],
      "text/plain": [
       "   Unidades  Gastos_generales\n",
       "0        40               191\n",
       "1        42               170\n",
       "2        53               272\n",
       "3        35               155\n",
       "4        56               280"
      ]
     },
     "execution_count": 2,
     "metadata": {},
     "output_type": "execute_result"
    }
   ],
   "source": [
    "import pandas as pd \n",
    "import matplotlib.pyplot as plt \n",
    "df = pd.DataFrame({\n",
    "    'Unidades': [40, 42, 53, 35, 56, 39, 48, 30, 37, 40],\n",
    "    'Gastos_generales': [191, 170, 272, 155, 280, 173, 234, 116, 153, 178]})\n",
    "df.head()"
   ]
  },
  {
   "cell_type": "code",
   "execution_count": null,
   "metadata": {},
   "outputs": [
    {
     "name": "stdout",
     "output_type": "stream",
     "text": [
      "Coeficiente de correlación: 0.9835\n",
      "\n",
      "Coeficiente de determinación:  0.9673\n",
      "\n",
      "intervalo de confianza para b1 de  95%\n",
      " 5.5184 < b1 <  7.4645\n",
      "\n",
      "valor-p de Shapiro:  0.2205\n",
      "\n",
      "valor_p de Breusch-Pagan:  0.9858\n",
      "\n",
      "Respuesta 11: 81.84455782312924\n"
     ]
    },
    {
     "data": {
      "text/html": [
       "<div>\n",
       "<style scoped>\n",
       "    .dataframe tbody tr th:only-of-type {\n",
       "        vertical-align: middle;\n",
       "    }\n",
       "\n",
       "    .dataframe tbody tr th {\n",
       "        vertical-align: top;\n",
       "    }\n",
       "\n",
       "    .dataframe thead th {\n",
       "        text-align: right;\n",
       "    }\n",
       "</style>\n",
       "<table border=\"1\" class=\"dataframe\">\n",
       "  <thead>\n",
       "    <tr style=\"text-align: right;\">\n",
       "      <th></th>\n",
       "      <th>df</th>\n",
       "      <th>sum_sq</th>\n",
       "      <th>mean_sq</th>\n",
       "      <th>F</th>\n",
       "      <th>PR(&gt;F)</th>\n",
       "    </tr>\n",
       "  </thead>\n",
       "  <tbody>\n",
       "    <tr>\n",
       "      <th>Unidades</th>\n",
       "      <td>1.0</td>\n",
       "      <td>24778.042517</td>\n",
       "      <td>24778.042517</td>\n",
       "      <td>236.669535</td>\n",
       "      <td>3.167080e-07</td>\n",
       "    </tr>\n",
       "    <tr>\n",
       "      <th>Residual</th>\n",
       "      <td>8.0</td>\n",
       "      <td>837.557483</td>\n",
       "      <td>104.694685</td>\n",
       "      <td>NaN</td>\n",
       "      <td>NaN</td>\n",
       "    </tr>\n",
       "  </tbody>\n",
       "</table>\n",
       "</div>"
      ],
      "text/plain": [
       "           df        sum_sq       mean_sq           F        PR(>F)\n",
       "Unidades  1.0  24778.042517  24778.042517  236.669535  3.167080e-07\n",
       "Residual  8.0    837.557483    104.694685         NaN           NaN"
      ]
     },
     "execution_count": 4,
     "metadata": {},
     "output_type": "execute_result"
    },
    {
     "data": {
      "image/png": "[encoded data removed]",
      "text/plain": [
       "<Figure size 640x480 with 1 Axes>"
      ]
     },
     "metadata": {},
     "output_type": "display_data"
    },
    {
     "data": {
      "image/png": "[encoded data removed]",
      "text/plain": [
       "<Figure size 640x480 with 1 Axes>"
      ]
     },
     "metadata": {},
     "output_type": "display_data"
    }
   ],
   "source": [
    "# 1. Establesca una variable dependiente ( Y ) y una variable independiente ( X ).\n",
    "X = df['Unidades']\n",
    "Y = df['Gastos_generales']\n",
    "\n",
    "# 2. Realice un diagrama de dispersión para estos datos.\n",
    "plt.scatter(X, Y, color = 'red')\n",
    "plt.xlabel('Unidades')\n",
    "plt.ylabel('Gastos generales')\n",
    "ax = plt.gca()\n",
    "ax.spines['top'].set_visible(False)\n",
    "ax.spines['right'].set_visible(False)\n",
    "\n",
    "# 3. ¿Los datos soportan la suposición de linealidad?\n",
    "#  Sí\n",
    "\n",
    "# 4. Calcule el coeficiente de correlación e interprete el resultado.\n",
    "from scipy.stats import pearsonr\n",
    "r, _ = pearsonr(X, Y)\n",
    "print(f'Coeficiente de correlación: {r:0.4f}\\n')\n",
    "# Tiene una relacion muy fuerte\n",
    "\n",
    "# 5. Calcule el coeficiente de determinación e interprete el resultado.\n",
    "from sklearn.metrics import r2_score \n",
    "r2 = r2_score(Y, Yc)\n",
    "print(f'Coeficiente de determinación: {r2: 0.4f}\\n')\n",
    "# tiene un 97% de variacion \n",
    " \n",
    "# 6. Obtenga la recta de regresión ajustada y grafíquelo sobre el gráfico de dispersión.\n",
    "import statsmodels.api as sm\n",
    "x_constante = sm.add_constant(X)\n",
    "modelo = sm.OLS(Y, x_constante).fit()\n",
    "\n",
    "b0, b1 = modelo.params\n",
    "\n",
    "fun = lambda x: b0 + b1 * x\n",
    "\n",
    "Yc = fun(X) \n",
    "\n",
    "plt.plot(X, Yc, color = 'blue', linestyle = '--')\n",
    "\n",
    "# 7. Obtenga un intervalo de confianza del 95% para la pendiente de la recta de regresión ajustada (b1)\n",
    "nivel_de_confianza = 0.95\n",
    "intervalo_de_confianza = modelo.conf_int(alpha = 1 - nivel_de_confianza)\n",
    "intervalo_de_confianza_b1 = intervalo_de_confianza.iloc[1]\n",
    "print(f'intervalo de confianza para b1 de {nivel_de_confianza: 0.0%}')\n",
    "print(f'{intervalo_de_confianza_b1[0]: 0.4f} < b1 < {intervalo_de_confianza_b1[1]: 0.4f}\\n')\n",
    "\n",
    "# 8. Calcule los residuales y trace un nuevo gráfico de dispersión. Comente, ¿Parece que se verifican los supuestos?\n",
    "residuales = modelo.resid\n",
    "plt.figure()\n",
    "plt.scatter(X, residuales, color = 'green')\n",
    "plt.xlabel('Unidades')\n",
    "plt.ylabel('Residuales')\n",
    "ax= plt.gca()\n",
    "ax.spines['top'].set_visible(False)\n",
    "ax.spines['right'].set_visible(False)\n",
    " # No hay homocedasticidad \n",
    " \n",
    "# 9.Realice la prueba de Shapiro para los residuales y comente el resultado.\n",
    "from scipy.stats import shapiro\n",
    "_, valor_p_sh = shapiro(residuales)\n",
    "print(f'valor-p de Shapiro: {valor_p_sh: 0.4f}\\n')\n",
    "# No se rechaza la hipótesis nula \n",
    "\n",
    "#10. Realice la prueba de Brausch-Pagan para los residuales y comente el resultado.\n",
    "from statsmodels.stats.api import het_breuschpagan\n",
    "_, valor_p_bp, _, _ = het_breuschpagan(residuales, x_constante)\n",
    "print(f'valor_p de Breusch-Pagan: {valor_p_bp: 0.4f}\\n')\n",
    "# No se rechaza la hipótesis nula de homocedasticidad.\n",
    "\n",
    "# 11. Utiliza la recta de regresión para interpolar dos valores y extrapolar uno. Comenta estos resultados.\n",
    "print(f\"Respuesta 11: {b1*25+b0}\")\n",
    "\n",
    "#12. Realice una tabla ANOVA e interprete el resultado.\n",
    "from statsmodels.formula.api import ols\n",
    "# Y ~ X \n",
    "modelo_2 = ols('Gastos_generales ~ Unidades', data = df).fit()\n",
    "tabla_anova = sm.stats.anova_lm(modelo_2)\n",
    "tabla_anova\n",
    "# Se rechaza la Ho"
   ]
  },
  {
   "cell_type": "markdown",
   "metadata": {
    "id": "9-_ZpHNattbm"
   },
   "source": [
    "### Problema 4\n",
    "Las ventas de línea blanca varían según el estado del mercado de casas nuevas: cuando las ventas de casas nuevas son buenas, también lo son las de lavaplatos, lavadoras de ropa, secadoras y refrigeradores.\n",
    "Una asociación de comercio compiló los siguientes datos históricos (en miles de unidades) de las ventas de línea blanca y la construcción de casas.\n",
    "\n",
    "| Construcción de casas (miles) | Ventas de línea blanca (miles) |\n",
    "|-------------------------------|--------------------------------|\n",
    "| 2.0                           | 5.0                            |\n",
    "| 2.5                           | 5.5                            |\n",
    "| 3.2                           | 6.0                            |\n",
    "| 3.6                           | 7.0                            |\n",
    "| 3.7                           | 7.2                            |\n",
    "| 4.0                           | 7.7                            |\n",
    "| 4.2                           | 8.4                            |\n",
    "| 4.6                           | 9.0                            |\n",
    "| 4.8                           | 9.7                            |\n",
    "| 5.0                           | 10.0                           |\n",
    "\n",
    "1.   Establesca una variable dependiente ($Y$) y una variable independiente ($X$).\n",
    "2.   Realice un diagrama de dispersión para estos datos.\n",
    "3. ¿Los datos soportan la suposición de linealidad?\n",
    "4. Calcule el coeficiente de correlación e interprete el resultado.\n",
    "5. Calcule el coeficiente de determinación e interprete el resultado.\n",
    "6. Obtenga la recta de regresión ajustada y grafíquelo sobre el gráfico de dispersión.\n",
    "7. Obtenga un intervalo de confianza del 95% para la pendiente de la recta de regresión ajustada ($b_1$)\n",
    "8. Calcule los residuales y trace un nuevo gráfico de dispersión. Comente, ¿Parece que se verifican los supuestos?\n",
    "9. Realice la prueba de Shapiro para los residuales y comente el resultado.\n",
    "10. Realice la prueba de Brausch-Pagan para los residuales y comente el resultado.\n",
    "11. Utiliza la recta de regresión para interpolar dos valores y extrapolar uno. Comenta estos resultados.\n",
    "12. Realice una tabla ANOVA e interprete el resultado."
   ]
  },
  {
   "cell_type": "code",
   "execution_count": 28,
   "metadata": {
    "id": "GPjzAEM-t34D"
   },
   "outputs": [
    {
     "data": {
      "text/html": [
       "<div>\n",
       "<style scoped>\n",
       "    .dataframe tbody tr th:only-of-type {\n",
       "        vertical-align: middle;\n",
       "    }\n",
       "\n",
       "    .dataframe tbody tr th {\n",
       "        vertical-align: top;\n",
       "    }\n",
       "\n",
       "    .dataframe thead th {\n",
       "        text-align: right;\n",
       "    }\n",
       "</style>\n",
       "<table border=\"1\" class=\"dataframe\">\n",
       "  <thead>\n",
       "    <tr style=\"text-align: right;\">\n",
       "      <th></th>\n",
       "      <th>construcción_de_casas</th>\n",
       "      <th>ventas_de_línea_blanca</th>\n",
       "    </tr>\n",
       "  </thead>\n",
       "  <tbody>\n",
       "    <tr>\n",
       "      <th>0</th>\n",
       "      <td>2.0</td>\n",
       "      <td>5.0</td>\n",
       "    </tr>\n",
       "    <tr>\n",
       "      <th>1</th>\n",
       "      <td>2.5</td>\n",
       "      <td>5.5</td>\n",
       "    </tr>\n",
       "    <tr>\n",
       "      <th>2</th>\n",
       "      <td>3.2</td>\n",
       "      <td>6.0</td>\n",
       "    </tr>\n",
       "    <tr>\n",
       "      <th>3</th>\n",
       "      <td>3.6</td>\n",
       "      <td>7.0</td>\n",
       "    </tr>\n",
       "    <tr>\n",
       "      <th>4</th>\n",
       "      <td>3.7</td>\n",
       "      <td>7.2</td>\n",
       "    </tr>\n",
       "  </tbody>\n",
       "</table>\n",
       "</div>"
      ],
      "text/plain": [
       "   construcción_de_casas  ventas_de_línea_blanca\n",
       "0                    2.0                     5.0\n",
       "1                    2.5                     5.5\n",
       "2                    3.2                     6.0\n",
       "3                    3.6                     7.0\n",
       "4                    3.7                     7.2"
      ]
     },
     "execution_count": 28,
     "metadata": {},
     "output_type": "execute_result"
    }
   ],
   "source": [
    "import pandas as pd\n",
    "import matplotlib.pyplot as plt\n",
    "df = pd.DataFrame({\n",
    "    'construcción_de_casas': [2.0, 2.5, 3.2,3.6, 3.7, 4.0, 4.2, 4.6, 4.8, 5.0],\n",
    "    'ventas_de_línea_blanca': [5.0, 5.5, 6.0, 7.0, 7.2, 7.7, 8.4, 9.0, 9.7, 10.0]})\n",
    "df.head()"
   ]
  },
  {
   "cell_type": "code",
   "execution_count": null,
   "metadata": {},
   "outputs": [
    {
     "name": "stdout",
     "output_type": "stream",
     "text": [
      "Coeficiente de correlación: 0.9808\n",
      "\n",
      "Coeficiente de determinación:  0.9619\n",
      "\n",
      "intervalo de confianza para b1 de  95%\n",
      " 1.4557 < b1 <  2.0194\n",
      "\n",
      "valor-p de Shapiro:  0.8464\n",
      "\n",
      "valor_p de Breusch-Pagan:  0.1581\n",
      "\n",
      "Respuesta 11: 44.455857740585785\n"
     ]
    },
    {
     "data": {
      "text/html": [
       "<div>\n",
       "<style scoped>\n",
       "    .dataframe tbody tr th:only-of-type {\n",
       "        vertical-align: middle;\n",
       "    }\n",
       "\n",
       "    .dataframe tbody tr th {\n",
       "        vertical-align: top;\n",
       "    }\n",
       "\n",
       "    .dataframe thead th {\n",
       "        text-align: right;\n",
       "    }\n",
       "</style>\n",
       "<table border=\"1\" class=\"dataframe\">\n",
       "  <thead>\n",
       "    <tr style=\"text-align: right;\">\n",
       "      <th></th>\n",
       "      <th>df</th>\n",
       "      <th>sum_sq</th>\n",
       "      <th>mean_sq</th>\n",
       "      <th>F</th>\n",
       "      <th>PR(&gt;F)</th>\n",
       "    </tr>\n",
       "  </thead>\n",
       "  <tbody>\n",
       "    <tr>\n",
       "      <th>construcción_de_casas</th>\n",
       "      <td>1.0</td>\n",
       "      <td>25.976581</td>\n",
       "      <td>25.976581</td>\n",
       "      <td>202.069951</td>\n",
       "      <td>5.841003e-07</td>\n",
       "    </tr>\n",
       "    <tr>\n",
       "      <th>Residual</th>\n",
       "      <td>8.0</td>\n",
       "      <td>1.028419</td>\n",
       "      <td>0.128552</td>\n",
       "      <td>NaN</td>\n",
       "      <td>NaN</td>\n",
       "    </tr>\n",
       "  </tbody>\n",
       "</table>\n",
       "</div>"
      ],
      "text/plain": [
       "                        df     sum_sq    mean_sq           F        PR(>F)\n",
       "construcción_de_casas  1.0  25.976581  25.976581  202.069951  5.841003e-07\n",
       "Residual               8.0   1.028419   0.128552         NaN           NaN"
      ]
     },
     "execution_count": 31,
     "metadata": {},
     "output_type": "execute_result"
    },
    {
     "data": {
      "image/png": "[encoded data removed]",
      "text/plain": [
       "<Figure size 640x480 with 1 Axes>"
      ]
     },
     "metadata": {},
     "output_type": "display_data"
    },
    {
     "data": {
      "image/png": "[encoded data removed]",
      "text/plain": [
       "<Figure size 640x480 with 1 Axes>"
      ]
     },
     "metadata": {},
     "output_type": "display_data"
    }
   ],
   "source": [
    "# 1. Establesca una variable dependiente ( Y ) y una variable independiente ( X ).\n",
    "X = df['construcción_de_casas']\n",
    "Y = df['ventas_de_línea_blanca']\n",
    "\n",
    "# 2. Realice un diagrama de dispersión para estos datos.\n",
    "plt.scatter(X, Y, color = 'red')\n",
    "plt.xlabel('construcción de casas')\n",
    "plt.ylabel('ventas de línea blanca')\n",
    "ax = plt.gca()\n",
    "ax.spines['top'].set_visible(False)\n",
    "ax.spines['right'].set_visible(False)\n",
    "\n",
    "# 3. ¿Los datos soportan la suposición de linealidad?\n",
    "#  Sí\n",
    "\n",
    "# 4. Calcule el coeficiente de correlación e interprete el resultado.\n",
    "from scipy.stats import pearsonr\n",
    "r, _ = pearsonr(X, Y)\n",
    "print(f'Coeficiente de correlación: {r:0.4f}\\n')\n",
    "# hay una relacion fuerte porque esta cerca del 1\n",
    " \n",
    "# 5. Calcule el coeficiente de determinación e interprete el resultado.\n",
    "from sklearn.metrics import r2_score \n",
    "r2 = r2_score(Y, Yc)\n",
    "print(f'Coeficiente de determinación: {r2: 0.4f}\\n')\n",
    "# Hay un 96% de variacion \n",
    "\n",
    "# 6. Obtenga la recta de regresión ajustada y grafíquelo sobre el gráfico de dispersión.\n",
    "import statsmodels.api as sm\n",
    "x_constante = sm.add_constant(X)\n",
    "modelo = sm.OLS(Y, x_constante).fit()\n",
    "\n",
    "b0, b1 = modelo.params\n",
    "\n",
    "fun = lambda x: b0 + b1 * x\n",
    "\n",
    "Yc = fun(X) \n",
    "\n",
    "plt.plot(X, Yc, color = 'blue', linestyle = '--')\n",
    "\n",
    "# 7. Obtenga un intervalo de confianza del 95% para la pendiente de la recta de regresión ajustada (b1)\n",
    "nivel_de_confianza = 0.95\n",
    "intervalo_de_confianza = modelo.conf_int(alpha = 1 - nivel_de_confianza)\n",
    "intervalo_de_confianza_b1 = intervalo_de_confianza.iloc[1]\n",
    "print(f'intervalo de confianza para b1 de {nivel_de_confianza: 0.0%}')\n",
    "print(f'{intervalo_de_confianza_b1[0]: 0.4f} < b1 < {intervalo_de_confianza_b1[1]: 0.4f}\\n')\n",
    "\n",
    "# 8. Calcule los residuales y trace un nuevo gráfico de dispersión. Comente, ¿Parece que se verifican los supuestos?\n",
    "residuales = modelo.resid\n",
    "plt.figure()\n",
    "plt.scatter(X, residuales, color = 'green')\n",
    "plt.xlabel('construcción de casas')\n",
    "plt.ylabel('ventas de línea blanca')\n",
    "ax= plt.gca()\n",
    "ax.spines['top'].set_visible(False)\n",
    "ax.spines['right'].set_visible(False)\n",
    "# hay relacion lineal pero no homocedasticidad\n",
    "\n",
    "# 9.Realice la prueba de Shapiro para los residuales y comente el resultado.\n",
    "from scipy.stats import shapiro\n",
    "_, valor_p_sh = shapiro(residuales)\n",
    "print(f'valor-p de Shapiro: {valor_p_sh: 0.4f}\\n') \n",
    "# # No se rechaza Ho porque se cumple con el supuesto.\n",
    "\n",
    "#10. Realice la prueba de Brausch-Pagan para los residuales y comente el resultado.\n",
    "from statsmodels.stats.api import het_breuschpagan\n",
    "_, valor_p_bp, _, _ = het_breuschpagan(residuales, x_constante)\n",
    "print(f'valor_p de Breusch-Pagan: {valor_p_bp: 0.4f}\\n')\n",
    "# No se rechaza Ho de homocedasticidad.\n",
    "\n",
    "# 11. Utiliza la recta de regresión para interpolar dos valores y extrapolar uno. Comenta estos resultados.\n",
    "print(f\"Respuesta 11: {b1*25+b0}\")\n",
    "\n",
    "#12. Realice una tabla ANOVA e interprete el resultado.\n",
    "from statsmodels.formula.api import ols\n",
    "# Y ~ X \n",
    "modelo_2 = ols('ventas_de_línea_blanca ~ construcción_de_casas', data = df).fit()\n",
    "tabla_anova = sm.stats.anova_lm(modelo_2)\n",
    "tabla_anova\n",
    "# se rechaza Ho\n"
   ]
  },
  {
   "cell_type": "markdown",
   "metadata": {
    "id": "x6oH2vATt4Sm"
   },
   "source": [
    "### Problema 5\n",
    "William C. Andrews, consultor de comportamiento organizacional de Victory Motorcycles, ha diseñado una prueba para mostrar a los supervisores de la compañía los peligros de sobrevigilar a sus trabajadores.\n",
    "Un trabajador de la línea de ensamble tiene a su cargo una serie de tareas complicadas. Durante el desempeño del trabajador, un inspector lo interrumpe constantemente para ayudarlo a terminar las tareas.\n",
    "El trabajador, después de terminar su trabajo, recibe una prueba psicológica diseñada para medir la hostilidad del trabajador hacia la autoridad\n",
    "(una alta puntuación implica una hostilidad baja). A ocho distintos trabajadores se les asignaron las tareas y luego se les interrumpió para darles instrucciones útiles un número variable de veces (línea X).\n",
    "Sus calificaciones en la prueba de hostilidad se dan en el renglón Y.\n",
    "\n",
    "| número interrupciones al trabajador |  5  | 10  | 10  | 15  | 15  | 20  | 20  | 25  |\n",
    "|-----------------------------------------|----|----|----|----|----|----|----|----|\n",
    "| calificación del trabajador en la prueba de hostilidad | 58  | 41  | 45  | 27  | 26  | 12  | 16  |  3  |\n",
    "\n",
    "1.   Establesca una variable dependiente ($Y$) y una variable independiente ($X$).\n",
    "2.   Realice un diagrama de dispersión para estos datos.\n",
    "3. ¿Los datos soportan la suposición de linealidad?\n",
    "4. Calcule el coeficiente de correlación e interprete el resultado.\n",
    "5. Calcule el coeficiente de determinación e interprete el resultado.\n",
    "6. Obtenga la recta de regresión ajustada y grafíquelo sobre el gráfico de dispersión.\n",
    "7. Obtenga un intervalo de confianza del 95% para la pendiente de la recta de regresión ajustada ($b_1$)\n",
    "8. Calcule los residuales y trace un nuevo gráfico de dispersión. Comente, ¿Parece que se verifican los supuestos?\n",
    "9. Realice la prueba de Shapiro para los residuales y comente el resultado.\n",
    "10. Realice la prueba de Brausch-Pagan para los residuales y comente el resultado.\n",
    "11. Utiliza la recta de regresión para interpolar dos valores y extrapolar uno. Comenta estos resultados.\n",
    "12. Realice una tabla ANOVA e interprete el resultado."
   ]
  },
  {
   "cell_type": "code",
   "execution_count": null,
   "metadata": {
    "id": "5nsXczRfulp8"
   },
   "outputs": [],
   "source": [
    "import pandas as pd \n",
    "import matplotlib.pyplot as plt \n",
    "df = pd.DataFrame({\n",
    "    'Numero_de_interrupciones': [5, 10, 10, 15, 15, 20, 20, 25],\n",
    "    'Calificacion_del_trabajador': [58, 41, 45, 27, 26, 12, 16, 3]})\n",
    "df.head()"
   ]
  },
  {
   "cell_type": "code",
   "execution_count": null,
   "metadata": {},
   "outputs": [
    {
     "name": "stdout",
     "output_type": "stream",
     "text": [
      "Coeficiente de correlación: -0.9928\n",
      "\n",
      "Coeficiente de determinación:  0.9858\n",
      "\n",
      "intervalo de confianza para b1 de  95%\n",
      "-3.1363 < b1 < -2.4637\n",
      "\n",
      "valor-p de Shapiro:  0.0548\n",
      "\n",
      "valor_p de Breusch-Pagan:  0.2482\n",
      "\n",
      "Respuesta 11: 0.5000000000000142\n"
     ]
    },
    {
     "data": {
      "text/html": [
       "<div>\n",
       "<style scoped>\n",
       "    .dataframe tbody tr th:only-of-type {\n",
       "        vertical-align: middle;\n",
       "    }\n",
       "\n",
       "    .dataframe tbody tr th {\n",
       "        vertical-align: top;\n",
       "    }\n",
       "\n",
       "    .dataframe thead th {\n",
       "        text-align: right;\n",
       "    }\n",
       "</style>\n",
       "<table border=\"1\" class=\"dataframe\">\n",
       "  <thead>\n",
       "    <tr style=\"text-align: right;\">\n",
       "      <th></th>\n",
       "      <th>df</th>\n",
       "      <th>sum_sq</th>\n",
       "      <th>mean_sq</th>\n",
       "      <th>F</th>\n",
       "      <th>PR(&gt;F)</th>\n",
       "    </tr>\n",
       "  </thead>\n",
       "  <tbody>\n",
       "    <tr>\n",
       "      <th>Numero_de_interrupciones</th>\n",
       "      <td>1.0</td>\n",
       "      <td>2352.0</td>\n",
       "      <td>2352.000000</td>\n",
       "      <td>415.058824</td>\n",
       "      <td>9.090964e-07</td>\n",
       "    </tr>\n",
       "    <tr>\n",
       "      <th>Residual</th>\n",
       "      <td>6.0</td>\n",
       "      <td>34.0</td>\n",
       "      <td>5.666667</td>\n",
       "      <td>NaN</td>\n",
       "      <td>NaN</td>\n",
       "    </tr>\n",
       "  </tbody>\n",
       "</table>\n",
       "</div>"
      ],
      "text/plain": [
       "                           df  sum_sq      mean_sq           F        PR(>F)\n",
       "Numero_de_interrupciones  1.0  2352.0  2352.000000  415.058824  9.090964e-07\n",
       "Residual                  6.0    34.0     5.666667         NaN           NaN"
      ]
     },
     "execution_count": 19,
     "metadata": {},
     "output_type": "execute_result"
    },
    {
     "data": {
      "image/png": "[encoded data removed]",
      "text/plain": [
       "<Figure size 640x480 with 1 Axes>"
      ]
     },
     "metadata": {},
     "output_type": "display_data"
    },
    {
     "data": {
      "image/png": "[encoded data removed]",
      "text/plain": [
       "<Figure size 640x480 with 1 Axes>"
      ]
     },
     "metadata": {},
     "output_type": "display_data"
    }
   ],
   "source": [
    "# 1. Establesca una variable dependiente ( Y ) y una variable independiente ( X ).\n",
    "X = df['Numero_de_interrupciones']\n",
    "Y = df['Calificacion_del_trabajador']\n",
    "\n",
    "\n",
    "# 2. Realice un diagrama de dispersión para estos datos.\n",
    "plt.scatter(X, Y, color = 'red')\n",
    "plt.xlabel('Numero de interrupciones')\n",
    "plt.ylabel('Calificacion del trabajador')\n",
    "ax = plt.gca()\n",
    "ax.spines['top'].set_visible(False)\n",
    "ax.spines['right'].set_visible(False)\n",
    "\n",
    "# 3. ¿Los datos soportan la suposición de linealidad?\n",
    "#  Sí\n",
    "\n",
    "# 4. Calcule el coeficiente de correlación e interprete el resultado.\n",
    "from scipy.stats import pearsonr\n",
    "r, _ = pearsonr(X, Y)\n",
    "print(f'Coeficiente de correlación: {r:0.4f}\\n')\n",
    " # Tiene una relacion muy fuerte\n",
    "\n",
    "# 5. Calcule el coeficiente de determinación e interprete el resultado.\n",
    "from sklearn.metrics import r2_score \n",
    "r2 = r2_score(Y, Yc)\n",
    "print(f'Coeficiente de determinación: {r2: 0.4f}\\n')\n",
    "# # Hay un 98% de variacion \n",
    " \n",
    "# 6. Obtenga la recta de regresión ajustada y grafíquelo sobre el gráfico de dispersión.\n",
    "import statsmodels.api as sm\n",
    "x_constante = sm.add_constant(X)\n",
    "modelo = sm.OLS(Y, x_constante).fit()\n",
    "\n",
    "b0, b1 = modelo.params\n",
    "\n",
    "fun = lambda x: b0 + b1 * x\n",
    "\n",
    "Yc = fun(X) \n",
    "\n",
    "plt.plot(X, Yc, color = 'blue', linestyle = '--')\n",
    "\n",
    "# 7. Obtenga un intervalo de confianza del 95% para la pendiente de la recta de regresión ajustada (b1)\n",
    "nivel_de_confianza = 0.95\n",
    "intervalo_de_confianza = modelo.conf_int(alpha = 1 - nivel_de_confianza)\n",
    "intervalo_de_confianza_b1 = intervalo_de_confianza.iloc[1]\n",
    "print(f'intervalo de confianza para b1 de {nivel_de_confianza: 0.0%}')\n",
    "print(f'{intervalo_de_confianza_b1[0]: 0.4f} < b1 < {intervalo_de_confianza_b1[1]: 0.4f}\\n')\n",
    "\n",
    "# 8. Calcule los residuales y trace un nuevo gráfico de dispersión. Comente, ¿Parece que se verifican los supuestos?\n",
    "residuales = modelo.resid\n",
    "plt.figure()\n",
    "plt.scatter(X, residuales, color = 'green')\n",
    "plt.xlabel('Numero de interrupciones')\n",
    "plt.ylabel('Calificacion del trabajador')\n",
    "ax= plt.gca()\n",
    "ax.spines['top'].set_visible(False)\n",
    "ax.spines['right'].set_visible(False)\n",
    "# Hay linealidad pero no homocedasticidad\n",
    "\n",
    "# 9.Realice la prueba de Shapiro para los residuales y comente el resultado.\n",
    "from scipy.stats import shapiro\n",
    "_, valor_p_sh = shapiro(residuales)\n",
    "print(f'valor-p de Shapiro: {valor_p_sh: 0.4f}\\n') \n",
    "# No se rechaza la hipótesis nula de normalidad.\n",
    "\n",
    "#10. Realice la prueba de Brausch-Pagan para los residuales y comente el resultado.\n",
    "from statsmodels.stats.api import het_breuschpagan\n",
    "_, valor_p_bp, _, _ = het_breuschpagan(residuales, x_constante)\n",
    "print(f'valor_p de Breusch-Pagan: {valor_p_bp: 0.4f}\\n')\n",
    "# No se rechaza la hipótesis nula de homocedasticidad.\n",
    "\n",
    "# 11. Utiliza la recta de regresión para interpolar dos valores y extrapolar uno. Comenta estos resultados.\n",
    "print(f\"Respuesta 11: {b1*25+b0}\")\n",
    "\n",
    "#12. Realice una tabla ANOVA e interprete el resultado.\n",
    "from statsmodels.formula.api import ols\n",
    "# Y ~ X \n",
    "modelo_2 = ols('Calificacion_del_trabajador ~ Numero_de_interrupciones', data = df).fit()\n",
    "tabla_anova = sm.stats.anova_lm(modelo_2)\n",
    "tabla_anova\n",
    "# se rechaza Ho"
   ]
  }
 ],
 "metadata": {
  "colab": {
   "authorship_tag": "ABX9TyNc9MVA9lU6+PZxqmcpq0+i",
   "provenance": [],
   "toc_visible": true
  },
  "kernelspec": {
   "display_name": "Python 3",
   "name": "python3"
  },
  "language_info": {
   "codemirror_mode": {
    "name": "ipython",
    "version": 3
   },
   "file_extension": ".py",
   "mimetype": "text/x-python",
   "name": "python",
   "nbconvert_exporter": "python",
   "pygments_lexer": "ipython3",
   "version": "3.13.2"
  }
 },
 "nbformat": 4,
 "nbformat_minor": 0
}
